{
  "nbformat": 4,
  "nbformat_minor": 0,
  "metadata": {
    "colab": {
      "provenance": [],
      "authorship_tag": "ABX9TyP+/uXooj0B470xE+TR0Xa+",
      "include_colab_link": true
    },
    "kernelspec": {
      "name": "python3",
      "display_name": "Python 3"
    },
    "language_info": {
      "name": "python"
    }
  },
  "cells": [
    {
      "cell_type": "markdown",
      "metadata": {
        "id": "view-in-github",
        "colab_type": "text"
      },
      "source": [
        "<a href=\"https://colab.research.google.com/github/sumitha9020/Elevatelabs_Tasks/blob/main/Task1.ipynb\" target=\"_parent\"><img src=\"https://colab.research.google.com/assets/colab-badge.svg\" alt=\"Open In Colab\"/></a>"
      ]
    },
    {
      "cell_type": "code",
      "source": [
        "# Task 1: Data Cleaning & Preprocessing\n",
        "# Dataset: Titanic (https://www.kaggle.com/datasets/yasserh/titanic-dataset)\n"
      ],
      "metadata": {
        "id": "xgJdHadR4mGc"
      },
      "execution_count": 1,
      "outputs": []
    },
    {
      "cell_type": "code",
      "source": [
        "# 1. Import Libraries\n",
        "import pandas as pd\n",
        "import numpy as np\n",
        "import matplotlib.pyplot as plt\n",
        "import seaborn as sns"
      ],
      "metadata": {
        "id": "VRhx5CPN4tvY"
      },
      "execution_count": 2,
      "outputs": []
    },
    {
      "cell_type": "code",
      "source": [
        "# 2. Load Dataset\n",
        "df = pd.read_csv(\"/content/Titanic-Dataset.csv\")   # make sure titanic.csv is in your working directory\n",
        "print(\"Dataset Shape:\", df.shape)\n",
        "print(\"\\nFirst 5 rows:\\n\", df.head())\n",
        "print(\"\\nDataset Info:\\n\")\n",
        "print(df.info())\n",
        "print(\"\\nMissing values:\\n\", df.isnull().sum())"
      ],
      "metadata": {
        "colab": {
          "base_uri": "https://localhost:8080/"
        },
        "id": "bmuPhz2V4z7h",
        "outputId": "d6122498-0801-45a6-bca7-8222aa03558f"
      },
      "execution_count": 4,
      "outputs": [
        {
          "output_type": "stream",
          "name": "stdout",
          "text": [
            "Dataset Shape: (891, 12)\n",
            "\n",
            "First 5 rows:\n",
            "    PassengerId  Survived  Pclass  \\\n",
            "0            1         0       3   \n",
            "1            2         1       1   \n",
            "2            3         1       3   \n",
            "3            4         1       1   \n",
            "4            5         0       3   \n",
            "\n",
            "                                                Name     Sex   Age  SibSp  \\\n",
            "0                            Braund, Mr. Owen Harris    male  22.0      1   \n",
            "1  Cumings, Mrs. John Bradley (Florence Briggs Th...  female  38.0      1   \n",
            "2                             Heikkinen, Miss. Laina  female  26.0      0   \n",
            "3       Futrelle, Mrs. Jacques Heath (Lily May Peel)  female  35.0      1   \n",
            "4                           Allen, Mr. William Henry    male  35.0      0   \n",
            "\n",
            "   Parch            Ticket     Fare Cabin Embarked  \n",
            "0      0         A/5 21171   7.2500   NaN        S  \n",
            "1      0          PC 17599  71.2833   C85        C  \n",
            "2      0  STON/O2. 3101282   7.9250   NaN        S  \n",
            "3      0            113803  53.1000  C123        S  \n",
            "4      0            373450   8.0500   NaN        S  \n",
            "\n",
            "Dataset Info:\n",
            "\n",
            "<class 'pandas.core.frame.DataFrame'>\n",
            "RangeIndex: 891 entries, 0 to 890\n",
            "Data columns (total 12 columns):\n",
            " #   Column       Non-Null Count  Dtype  \n",
            "---  ------       --------------  -----  \n",
            " 0   PassengerId  891 non-null    int64  \n",
            " 1   Survived     891 non-null    int64  \n",
            " 2   Pclass       891 non-null    int64  \n",
            " 3   Name         891 non-null    object \n",
            " 4   Sex          891 non-null    object \n",
            " 5   Age          714 non-null    float64\n",
            " 6   SibSp        891 non-null    int64  \n",
            " 7   Parch        891 non-null    int64  \n",
            " 8   Ticket       891 non-null    object \n",
            " 9   Fare         891 non-null    float64\n",
            " 10  Cabin        204 non-null    object \n",
            " 11  Embarked     889 non-null    object \n",
            "dtypes: float64(2), int64(5), object(5)\n",
            "memory usage: 83.7+ KB\n",
            "None\n",
            "\n",
            "Missing values:\n",
            " PassengerId      0\n",
            "Survived         0\n",
            "Pclass           0\n",
            "Name             0\n",
            "Sex              0\n",
            "Age            177\n",
            "SibSp            0\n",
            "Parch            0\n",
            "Ticket           0\n",
            "Fare             0\n",
            "Cabin          687\n",
            "Embarked         2\n",
            "dtype: int64\n"
          ]
        }
      ]
    },
    {
      "cell_type": "code",
      "source": [
        "# 3. Handle Missing Values\n",
        "# strategy:\n",
        "# Age -> fill with median\n",
        "# Embarked -> fill with mode\n",
        "# Cabin -> drop (too many missing)\n",
        "\n",
        "df[\"Age\"].fillna(df[\"Age\"].median(), inplace=True)\n",
        "df[\"Embarked\"].fillna(df[\"Embarked\"].mode()[0], inplace=True)\n",
        "df.drop(columns=[\"Cabin\"], inplace=True)\n",
        "\n",
        "print(\"\\nMissing values after handling:\\n\", df.isnull().sum())"
      ],
      "metadata": {
        "colab": {
          "base_uri": "https://localhost:8080/"
        },
        "id": "dMQ2BrgU5TBq",
        "outputId": "b4bbc07d-7304-4822-e166-fba2c5854be5"
      },
      "execution_count": 5,
      "outputs": [
        {
          "output_type": "stream",
          "name": "stdout",
          "text": [
            "\n",
            "Missing values after handling:\n",
            " PassengerId    0\n",
            "Survived       0\n",
            "Pclass         0\n",
            "Name           0\n",
            "Sex            0\n",
            "Age            0\n",
            "SibSp          0\n",
            "Parch          0\n",
            "Ticket         0\n",
            "Fare           0\n",
            "Embarked       0\n",
            "dtype: int64\n"
          ]
        },
        {
          "output_type": "stream",
          "name": "stderr",
          "text": [
            "/tmp/ipython-input-656478400.py:7: FutureWarning: A value is trying to be set on a copy of a DataFrame or Series through chained assignment using an inplace method.\n",
            "The behavior will change in pandas 3.0. This inplace method will never work because the intermediate object on which we are setting values always behaves as a copy.\n",
            "\n",
            "For example, when doing 'df[col].method(value, inplace=True)', try using 'df.method({col: value}, inplace=True)' or df[col] = df[col].method(value) instead, to perform the operation inplace on the original object.\n",
            "\n",
            "\n",
            "  df[\"Age\"].fillna(df[\"Age\"].median(), inplace=True)\n",
            "/tmp/ipython-input-656478400.py:8: FutureWarning: A value is trying to be set on a copy of a DataFrame or Series through chained assignment using an inplace method.\n",
            "The behavior will change in pandas 3.0. This inplace method will never work because the intermediate object on which we are setting values always behaves as a copy.\n",
            "\n",
            "For example, when doing 'df[col].method(value, inplace=True)', try using 'df.method({col: value}, inplace=True)' or df[col] = df[col].method(value) instead, to perform the operation inplace on the original object.\n",
            "\n",
            "\n",
            "  df[\"Embarked\"].fillna(df[\"Embarked\"].mode()[0], inplace=True)\n"
          ]
        }
      ]
    },
    {
      "cell_type": "code",
      "source": [
        "# 4. Encode Categorical Variables\n",
        "# Sex and Embarked are categorical\n",
        "df = pd.get_dummies(df, columns=[\"Sex\", \"Embarked\"], drop_first=True)\n",
        "\n",
        "print(\"\\nColumns after encoding:\\n\", df.columns)"
      ],
      "metadata": {
        "colab": {
          "base_uri": "https://localhost:8080/"
        },
        "id": "x7DvZr-i5gVl",
        "outputId": "9642b3e1-98ef-4e80-bab1-1539807921da"
      },
      "execution_count": 6,
      "outputs": [
        {
          "output_type": "stream",
          "name": "stdout",
          "text": [
            "\n",
            "Columns after encoding:\n",
            " Index(['PassengerId', 'Survived', 'Pclass', 'Name', 'Age', 'SibSp', 'Parch',\n",
            "       'Ticket', 'Fare', 'Sex_male', 'Embarked_Q', 'Embarked_S'],\n",
            "      dtype='object')\n"
          ]
        }
      ]
    },
    {
      "cell_type": "code",
      "source": [
        "# 5. Feature Scaling (Normalization & Standardization)\n",
        "from sklearn.preprocessing import MinMaxScaler, StandardScaler\n",
        "\n",
        "scaler_minmax = MinMaxScaler()\n",
        "scaler_standard = StandardScaler()\n",
        "\n",
        "# Apply scaling to numerical columns (example: Age, Fare)\n",
        "df[\"Age_norm\"] = scaler_minmax.fit_transform(df[[\"Age\"]])\n",
        "df[\"Fare_norm\"] = scaler_minmax.fit_transform(df[[\"Fare\"]])\n",
        "\n",
        "df[\"Age_std\"] = scaler_standard.fit_transform(df[[\"Age\"]])\n",
        "df[\"Fare_std\"] = scaler_standard.fit_transform(df[[\"Fare\"]])\n",
        "\n",
        "print(\"\\nScaled features added.\")"
      ],
      "metadata": {
        "colab": {
          "base_uri": "https://localhost:8080/"
        },
        "id": "-WoWkMOi5lRf",
        "outputId": "b3db546f-aaa6-4af3-9265-eb26fea94a76"
      },
      "execution_count": 7,
      "outputs": [
        {
          "output_type": "stream",
          "name": "stdout",
          "text": [
            "\n",
            "Scaled features added.\n"
          ]
        }
      ]
    },
    {
      "cell_type": "code",
      "source": [
        "# 6. Outlier Detection & Removal\n",
        "plt.figure(figsize=(10,5))\n",
        "sns.boxplot(data=df[[\"Age\", \"Fare\"]])\n",
        "plt.title(\"Boxplot for Outlier Detection\")\n",
        "plt.show()\n",
        "\n",
        "# Removing outliers using IQR for Fare\n",
        "Q1 = df[\"Fare\"].quantile(0.25)\n",
        "Q3 = df[\"Fare\"].quantile(0.75)\n",
        "IQR = Q3 - Q1\n",
        "lower = Q1 - 1.5 * IQR\n",
        "upper = Q3 + 1.5 * IQR\n",
        "\n",
        "df = df[(df[\"Fare\"] >= lower) & (df[\"Fare\"] <= upper)]\n",
        "\n",
        "print(\"\\nShape after outlier removal:\", df.shape)"
      ],
      "metadata": {
        "colab": {
          "base_uri": "https://localhost:8080/",
          "height": 503
        },
        "id": "nGcliWfs5sLR",
        "outputId": "34abe806-0451-4081-de5e-394ee2c5aa23"
      },
      "execution_count": 8,
      "outputs": [
        {
          "output_type": "display_data",
          "data": {
            "text/plain": [
              "<Figure size 1000x500 with 1 Axes>"
            ],
            "image/png": "[encoded data removed]"
          },
          "metadata": {}
        },
        {
          "output_type": "stream",
          "name": "stdout",
          "text": [
            "\n",
            "Shape after outlier removal: (775, 16)\n"
          ]
        }
      ]
    },
    {
      "cell_type": "code",
      "source": [
        "# 7. Final Dataset\n",
        "print(\"\\nCleaned dataset ready for ML!\")\n",
        "print(df.head())\n",
        "\n",
        "# Save processed data\n",
        "df.to_csv(\"titanic_cleaned.csv\", index=False)\n",
        "print(\"\\nCleaned dataset saved as titanic_cleaned.csv\")"
      ],
      "metadata": {
        "colab": {
          "base_uri": "https://localhost:8080/"
        },
        "id": "ZI_YATdH57dp",
        "outputId": "a46da2b4-d53f-4c26-d87a-15249da8a11c"
      },
      "execution_count": 9,
      "outputs": [
        {
          "output_type": "stream",
          "name": "stdout",
          "text": [
            "\n",
            "Cleaned dataset ready for ML!\n",
            "   PassengerId  Survived  Pclass  \\\n",
            "0            1         0       3   \n",
            "2            3         1       3   \n",
            "3            4         1       1   \n",
            "4            5         0       3   \n",
            "5            6         0       3   \n",
            "\n",
            "                                           Name   Age  SibSp  Parch  \\\n",
            "0                       Braund, Mr. Owen Harris  22.0      1      0   \n",
            "2                        Heikkinen, Miss. Laina  26.0      0      0   \n",
            "3  Futrelle, Mrs. Jacques Heath (Lily May Peel)  35.0      1      0   \n",
            "4                      Allen, Mr. William Henry  35.0      0      0   \n",
            "5                              Moran, Mr. James  28.0      0      0   \n",
            "\n",
            "             Ticket     Fare  Sex_male  Embarked_Q  Embarked_S  Age_norm  \\\n",
            "0         A/5 21171   7.2500      True       False        True  0.271174   \n",
            "2  STON/O2. 3101282   7.9250     False       False        True  0.321438   \n",
            "3            113803  53.1000     False       False        True  0.434531   \n",
            "4            373450   8.0500      True       False        True  0.434531   \n",
            "5            330877   8.4583      True        True       False  0.346569   \n",
            "\n",
            "   Fare_norm   Age_std  Fare_std  \n",
            "0   0.014151 -0.565736 -0.502445  \n",
            "2   0.015469 -0.258337 -0.488854  \n",
            "3   0.103644  0.433312  0.420730  \n",
            "4   0.015713  0.433312 -0.486337  \n",
            "5   0.016510 -0.104637 -0.478116  \n",
            "\n",
            "Cleaned dataset saved as titanic_cleaned.csv\n"
          ]
        }
      ]
    }
  ]
}